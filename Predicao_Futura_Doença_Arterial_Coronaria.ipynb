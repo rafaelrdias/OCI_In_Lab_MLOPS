{
 "cells": [
  {
   "cell_type": "markdown",
   "id": "b52f8156",
   "metadata": {},
   "source": [
    "## Source\n",
    "\n",
    "The dataset is publically available on the Kaggle website, and it is from an ongoing cardiovascular study on residents of the town of Framingham, Massachusetts. The classification goal is to predict whether the patient has 10-year risk of future coronary heart disease (CHD).The dataset provides the patients’ information. It includes over 4,000 records and 15 attributes.\n",
    "Variables\n",
    "Each attribute is a potential risk factor. There are both demographic, behavioral and medical risk factors.\n",
    "\n",
    "https://www.tuasaude.com/doenca-coronariana/\n",
    "\n",
    "### Demographic:\n",
    "\n",
    "• Sex: male or female(Nominal)\n",
    "\n",
    "• Age: Age of the patient;(Continuous - Although the recorded ages have been truncated to whole numbers, the concept of age is continuous)\n",
    "\n",
    "### Behavioral\n",
    "\n",
    "• Current Smoker: whether or not the patient is a current smoker (Nominal)\n",
    "\n",
    "• Cigs Per Day: the number of cigarettes that the person smoked on average in one day.(can be considered continuous as one can have any number of cigarettes, even half a cigarette.)\n",
    "\n",
    "### Medical(history)\n",
    "\n",
    "• BP Meds: whether or not the patient was on blood pressure medication (Nominal)\n",
    "\n",
    "• Prevalent Stroke: whether or not the patient had previously had a stroke (Nominal)\n",
    "\n",
    "• Prevalent Hyp: whether or not the patient was hypertensive (Nominal)\n",
    "\n",
    "• Diabetes: whether or not the patient had diabetes (Nominal)\n",
    "\n",
    "### Medical(current)\n",
    "\n",
    "• Tot Chol: total cholesterol level (Continuous)\n",
    "\n",
    "• Sys BP: systolic blood pressure (Continuous)\n",
    "\n",
    "• Dia BP: diastolic blood pressure (Continuous)\n",
    "\n",
    "• BMI: Body Mass Index (Continuous)\n",
    "\n",
    "• Heart Rate: heart rate (Continuous - In medical research, variables such as heart rate though in fact discrete, yet are considered continuous because of large number of possible values.)\n",
    "\n",
    "• Glucose: glucose level (Continuous)\n",
    "\n",
    "### Predict variable (desired target)\n",
    "\n",
    "• 10 year risk of coronary heart disease CHD (binary: “1”, means “Yes”, “0” means “No”)\n",
    "\n",
    "### CREDIT TO:\n",
    "Kaggle for the dataset: https://www.kaggle.com/dileep070/heart-disease-prediction-using-logistic-regression"
   ]
  },
  {
   "cell_type": "markdown",
   "id": "98171d90",
   "metadata": {},
   "source": [
    "# Notebook OCI in LABS - MLOps\n",
    "## Notebook - Utilizando as bibliotecas: ADS, AutoML = Da construção do modelo até utilizando-o em Produção\n",
    "### Para executar os comandos contidos em cada célula, é necessário colocar o cursor na célula e pressionar no teclado \"Ctrl + Enter\""
   ]
  },
  {
   "cell_type": "markdown",
   "id": "82b914f5",
   "metadata": {},
   "source": [
    "#### Vamos ajustar a versão da biblioteca ADS"
   ]
  },
  {
   "cell_type": "code",
   "execution_count": null,
   "id": "61162900",
   "metadata": {},
   "outputs": [],
   "source": [
    "!pip install oracle-ads==2.5.9\n",
    "!pip install -U oci"
   ]
  },
  {
   "cell_type": "markdown",
   "id": "4d68891a",
   "metadata": {},
   "source": [
    "#### Agora é hora de carregar na memória a maioria das bibliotecas e funções que serão utilizadas neste script"
   ]
  },
  {
   "cell_type": "code",
   "execution_count": null,
   "id": "baf76c5e",
   "metadata": {},
   "outputs": [],
   "source": [
    "def algo_selec(model):\n",
    "    trials = model.model_selection_trials_\n",
    "    fig, ax = plt.subplots(1)\n",
    "    colors = []\n",
    "    scores = [x[3] for x in trials]\n",
    "    models = [x[0] for x in trials]\n",
    "    y_margin = 0.10 * (max(scores) - min(scores))\n",
    "    s = pd.Series(scores, index=models).sort_values(ascending=False)\n",
    "    ax.set_title(\"Algorithm Selection Trials\")\n",
    "    for f in s.keys():\n",
    "        if f == '{}_AS'.format(est_pred.selected_model_):\n",
    "            colors.append('orange')\n",
    "        elif s[f] >= s.mean():\n",
    "            colors.append('teal')\n",
    "        else:\n",
    "            colors.append('turquoise')\n",
    "    ax.set_ylim(min(scores) - y_margin, max(scores) + y_margin)\n",
    "    s.plot.bar(ax=ax, color=colors, edgecolor='black')\n",
    "    ax.axhline(y=s.mean(), color='black', linewidth=0.5)\n",
    "    return(plt.show())\n",
    "\n",
    "def adap_sample(model):\n",
    "    trials = model.adaptive_sampling_trials_\n",
    "    fig, ax = plt.subplots(1)\n",
    "    ax.set_title(\"Adaptive Sampling ({})\".format(trials[0][0]))\n",
    "    ax.set_xlabel('Dataset sample size')\n",
    "    ax.set_ylabel(r\"Predicted model score\")\n",
    "    scores = [x[3] for x in trials]\n",
    "    n_samples = [x[1] for x in trials]\n",
    "    y_margin = 0.10 * (max(scores) - min(scores))\n",
    "    ax.grid(color='g', linestyle='-', linewidth=0.1)\n",
    "    ax.set_ylim(min(scores) - y_margin, max(scores) + y_margin)\n",
    "    ax.plot(n_samples, scores, 'k:', marker=\"s\", color='teal', markersize=3)\n",
    "    return(plt.show())\n",
    "\n",
    "def feat_selec(model):\n",
    "    trials = model.feature_selection_trials_\n",
    "    fig, ax = plt.subplots(1)\n",
    "    ax.set_title(\"Feature Selection Trials\")\n",
    "    ax.set_xlabel(\"Number of Features\")\n",
    "    ax.set_ylabel(r\"Predicted model score\")\n",
    "    scores = [x[3] for x in trials]\n",
    "    n_features = [x[2] for x in trials]\n",
    "    y_margin = 0.10 * (max(scores) - min(scores))\n",
    "    ax.grid(color='g', linestyle='-', linewidth=0.1)\n",
    "    ax.set_ylim(min(scores) - y_margin, max(scores) + y_margin)\n",
    "    ax.plot(n_features, scores, 'k:', marker=\"s\", color='teal', markersize=3)\n",
    "    ax.axvline(x=len(model.selected_features_names_), color='orange', linewidth=2.0)\n",
    "    return(plt.show())\n",
    "\n",
    "def hyper_tuning(model):\n",
    "    trials = model.tuning_trials_\n",
    "    fig, ax = plt.subplots(1)\n",
    "    ax.set_title(\"Hyperparameter Tuning Trials\")\n",
    "    ax.set_xlabel(\"Iteration $n$\")\n",
    "    ax.set_ylabel(r\"Computer model score\")\n",
    "    scores = [x[3] for x in reversed(trials)]\n",
    "    y_margin = 0.10 * (max(scores) - min(scores))\n",
    "    ax.grid(color='g', linestyle='-', linewidth=0.1)\n",
    "    ax.set_ylim(min(scores) - y_margin, max(scores) + y_margin)\n",
    "    ax.plot(range(1, len(trials) + 1), scores, 'k:', marker=\"s\", color='teal', markersize=3)\n",
    "    return(plt.show())"
   ]
  },
  {
   "cell_type": "code",
   "execution_count": null,
   "id": "0801b2fa",
   "metadata": {},
   "outputs": [],
   "source": [
    "%matplotlib inline\n",
    "\n",
    "import ads\n",
    "import mlx\n",
    "import oci\n",
    "import logging\n",
    "import warnings\n",
    "import numpy as np \n",
    "import pandas as pd\n",
    "import matplotlib.pyplot as plt\n",
    "import os\n",
    "\n",
    "import seaborn as sn\n",
    "import automl\n",
    "plt.style.use('ggplot')\n",
    "\n",
    "from os import path\n",
    "from ads.common import auth as authutil\n",
    "from ads.dataset.factory import DatasetFactory\n",
    "from ads import set_documentation_mode\n",
    "from ads import set_auth\n",
    "from ads.common.model import ADSModel\n",
    "from ads.automl.provider import OracleAutoMLProvider\n",
    "from ads.automl.driver import AutoML\n",
    "from ads.common.data import ADSData\n",
    "from ads.evaluations.evaluator import ADSEvaluator\n",
    "from ads.catalog.model import ModelCatalog\n",
    "from ads.common.model import ADSModel\n",
    "from ads.model.deployment import ModelDeployer, ModelDeploymentProperties\n",
    "from ads.common.model_export_util import prepare_generic_model\n",
    "from ads.evaluations.evaluator import ADSEvaluator\n",
    "from ads.explanations.explainer import ADSExplainer\n",
    "from ads.explanations.mlx_global_explainer import MLXGlobalExplainer\n",
    "from ads.explanations.mlx_local_explainer import MLXLocalExplainer\n",
    "from automl import Pipeline, init\n",
    "from ads.model.deployment import ModelDeployer, ModelDeploymentProperties\n",
    "from ads.common.model_export_util import prepare_generic_model\n",
    "from oci.data_science import DataScienceClient, DataScienceClientCompositeOperations\n",
    "from oci.auth.signers import get_resource_principals_signer\n",
    "from oci.data_science.models import ModelConfigurationDetails, InstanceConfiguration, \\\n",
    "                                    FixedSizeScalingPolicy, CategoryLogDetails, LogDetails, \\\n",
    "                                    SingleModelDeploymentConfigurationDetails, CreateModelDeploymentDetails\n",
    "from ads.common.oci_logging import OCILogGroup\n",
    "from ads.common.auth import default_signer\n",
    "from mlx import PermutationImportance\n",
    "from sklearn.metrics import ConfusionMatrixDisplay\n",
    "from sklearn.metrics import accuracy_score\n",
    "from sklearn import metrics\n",
    "from sklearn.metrics import classification_report\n",
    "\n",
    "ads.set_auth(auth=\"resource_principal\")\n",
    "set_documentation_mode(False)\n",
    "warnings.filterwarnings('ignore')\n",
    "logging.basicConfig(format='%(levelname)s:%(message)s', level=logging.ERROR)"
   ]
  },
  {
   "cell_type": "markdown",
   "id": "dc19876a",
   "metadata": {},
   "source": [
    "#### Utilizaremos o conjunto de dados descrito anteriormente que está no bucket \"rafa_lab\" - Para que possam replicar copiar o nome do bucket e colar no lugar dos XXXXXXX entre aspas para o \"bucket_name\"\n",
    "\n",
    "#### **** Importante: Será necessário trocar o nome do \"namespace\" contido entre aspas, para tanto:\n",
    "#### - Acessar o menu de hamburguer, clicar em \"Storage\" e após em \"Bucket\"\n",
    "#### - Na próxima tela clicar no bucket onde está o conjunto de dados, isto abrirá uma nova tela, e então, copiar o código contido em \"Namespace:\" (o código contem letras e números)\n",
    "#### - Colar esta informação no lugar dos XXXXXXXX para o \"namespace:\""
   ]
  },
  {
   "cell_type": "code",
   "execution_count": null,
   "id": "dcbaf8c5",
   "metadata": {},
   "outputs": [],
   "source": [
    "bucket_name = \"XXXXXXXX\"\n",
    "file_name = 'framingham.csv'\n",
    "namespace = 'XXXXXXXXXXX'\n",
    "\n",
    "df_CHD = DatasetFactory.open(f\"oci://{bucket_name}@{namespace}/{file_name}\", storage_options={\"config\": {}},format='csv', orient='records', target='TenYearCHD')"
   ]
  },
  {
   "cell_type": "markdown",
   "id": "39f2c033",
   "metadata": {},
   "source": [
    "#### Também é possível acessar o conjunto de dados diretamente do Git"
   ]
  },
  {
   "cell_type": "code",
   "execution_count": null,
   "id": "ec16b68f",
   "metadata": {},
   "outputs": [],
   "source": [
    "df_CHD = pd.read_csv(\"https://raw.githubusercontent.com/rafaelrdias/OCI_In_Lab_MLOPS/main/framingham.csv\")"
   ]
  },
  {
   "cell_type": "code",
   "execution_count": null,
   "id": "8088f1f8",
   "metadata": {},
   "outputs": [],
   "source": [
    "df_CHD = DatasetFactory.open(df_CHD, target='TenYearCHD')"
   ]
  },
  {
   "cell_type": "markdown",
   "id": "0c81548a",
   "metadata": {},
   "source": [
    "#### A função \"show_in_notebook\" mostra um resumo completo sobre o dataset"
   ]
  },
  {
   "cell_type": "code",
   "execution_count": null,
   "id": "89d0ff8f",
   "metadata": {},
   "outputs": [],
   "source": [
    "df_CHD.show_in_notebook()"
   ]
  },
  {
   "cell_type": "markdown",
   "id": "6f4a0cdb",
   "metadata": {},
   "source": [
    "### Após ajustes iremos utilizar a função \"get_recommendations()\" do ADS para verificar se existe mais correções ou transformações no dataframe\n",
    "\n",
    "#### Aparecerá um quadro chamado \"Imputation\", selecionar \"Fill missing values with frequent\" para todas as variáveis, após clicar em \"Next\"\n",
    "\n",
    "#### Após aparecerá um quadro chamado \"Multicollinear Columns\", selecionar \"Do nothing\", e então clicar em \"Next\"\n",
    "\n",
    "#### Após aparecerá um quadro chamado \"Fix imbalance in dataset\", selecionar \"Up-sample\" clicar em \"Next\" e após em \"Apply\""
   ]
  },
  {
   "cell_type": "code",
   "execution_count": null,
   "id": "121e5c41",
   "metadata": {},
   "outputs": [],
   "source": [
    "df_CHD.get_recommendations()"
   ]
  },
  {
   "cell_type": "markdown",
   "id": "578209ad",
   "metadata": {},
   "source": [
    "#### Abaixo salvaremos as alterações realizadas anteriormente"
   ]
  },
  {
   "cell_type": "code",
   "execution_count": null,
   "id": "1e9e1a09",
   "metadata": {},
   "outputs": [],
   "source": [
    "df_CHD = df_CHD.get_transformed_dataset()"
   ]
  },
  {
   "cell_type": "markdown",
   "id": "aced5b01",
   "metadata": {},
   "source": [
    "#### Após verificaremos visualmente as alterações realizadas"
   ]
  },
  {
   "cell_type": "code",
   "execution_count": null,
   "id": "31e860e3",
   "metadata": {},
   "outputs": [],
   "source": [
    "df_CHD.visualize_transforms()"
   ]
  },
  {
   "cell_type": "markdown",
   "id": "564ef60d",
   "metadata": {},
   "source": [
    "#### Um double check na variável alvo, para validar se agora está balanceado"
   ]
  },
  {
   "cell_type": "code",
   "execution_count": null,
   "id": "d96fba7d",
   "metadata": {},
   "outputs": [],
   "source": [
    "df_CHD.target.show_in_notebook()"
   ]
  },
  {
   "cell_type": "markdown",
   "id": "a6d90f42",
   "metadata": {},
   "source": [
    "#### Com o dataframe com todas as informações corretas, iremos separá-lo em treino e teste"
   ]
  },
  {
   "cell_type": "code",
   "execution_count": null,
   "id": "d33ed53d",
   "metadata": {},
   "outputs": [],
   "source": [
    "train, test = df_CHD.train_test_split(test_size = 0.1, random_state=1313)"
   ]
  },
  {
   "cell_type": "markdown",
   "id": "3505f36f",
   "metadata": {},
   "source": [
    "#### Configurando como a instância trabalhará com processamento paralelo durante o processo de modelagem"
   ]
  },
  {
   "cell_type": "code",
   "execution_count": null,
   "id": "5866e96b",
   "metadata": {},
   "outputs": [],
   "source": [
    "init(engine='local', engine_opts={'n_jobs' : 16, 'model_n_jobs' : 2}, loglevel = logging.INFO)"
   ]
  },
  {
   "cell_type": "markdown",
   "id": "54e5268f",
   "metadata": {},
   "source": [
    "#### Determinando qual será o tipo de modelagem e métrica para otimização"
   ]
  },
  {
   "cell_type": "code",
   "execution_count": null,
   "id": "8800f9b6",
   "metadata": {},
   "outputs": [],
   "source": [
    "est_pred = automl.Pipeline(task='classification', score_metric='accuracy')"
   ]
  },
  {
   "cell_type": "markdown",
   "id": "6c611603",
   "metadata": {},
   "source": [
    "### Iniciando o AutoML para gerar o melhor modelo para predição de Doença Arterial Coranária futura"
   ]
  },
  {
   "cell_type": "code",
   "execution_count": null,
   "id": "ac82ec90",
   "metadata": {},
   "outputs": [],
   "source": [
    "est_pred.fit(train.X, train.y)"
   ]
  },
  {
   "cell_type": "code",
   "execution_count": null,
   "id": "efd02da6",
   "metadata": {},
   "outputs": [],
   "source": [
    "est_pred.classes_"
   ]
  },
  {
   "cell_type": "markdown",
   "id": "1adcf350",
   "metadata": {},
   "source": [
    "#### Validando a Acurácia do Treino e Teste, e também verificando quais foram as features selecionadas no processo de modelagem"
   ]
  },
  {
   "cell_type": "code",
   "execution_count": null,
   "id": "f374604b",
   "metadata": {},
   "outputs": [],
   "source": [
    "np.set_printoptions(precision=2)\n",
    "\n",
    "print(\"\\n\\n O Melhor Algoritmo: \",est_pred.selected_model_,'\\n\\n Com Acurácia de: ',metrics.accuracy_score(test.y, est_pred.predict(test.X)),'\\n\\n')\n",
    "\n",
    "disp = ConfusionMatrixDisplay.from_estimator(\n",
    "    est_pred,\n",
    "    test.X,\n",
    "    test.y,\n",
    "    display_labels=est_pred.classes_,\n",
    "    cmap=plt.cm.Blues,\n",
    "    normalize=\"true\",\n",
    ")\n",
    "\n",
    "disp.ax_.set_title(\"Doença Cardíaca Coronária\")\n",
    "\n",
    "plt.show()"
   ]
  },
  {
   "cell_type": "markdown",
   "id": "3c5d2ad4",
   "metadata": {},
   "source": [
    "### Agora Validações mais detalhadas utilizando a biblioteca ADS"
   ]
  },
  {
   "cell_type": "code",
   "execution_count": null,
   "id": "5c70ebbb",
   "metadata": {},
   "outputs": [],
   "source": [
    "dt_model = ADSModel.from_estimator(est_pred)\n",
    "single_evaluator = ADSEvaluator(test, models=[dt_model])"
   ]
  },
  {
   "cell_type": "code",
   "execution_count": null,
   "id": "0e06efb4",
   "metadata": {},
   "outputs": [],
   "source": [
    "single_evaluator.metrics"
   ]
  },
  {
   "cell_type": "code",
   "execution_count": null,
   "id": "b46667da",
   "metadata": {},
   "outputs": [],
   "source": [
    "single_evaluator.show_in_notebook()"
   ]
  },
  {
   "cell_type": "code",
   "execution_count": null,
   "id": "553f309e",
   "metadata": {},
   "outputs": [],
   "source": [
    "explainer = ADSExplainer(test, dt_model, training_data=train)\n",
    "mlx.initjs()"
   ]
  },
  {
   "cell_type": "code",
   "execution_count": null,
   "id": "97e9c532",
   "metadata": {},
   "outputs": [],
   "source": [
    "pi_exp = PermutationImportance()\n",
    "pi_exp.show_in_notebook()"
   ]
  },
  {
   "cell_type": "code",
   "execution_count": null,
   "id": "db2149ba",
   "metadata": {},
   "outputs": [],
   "source": [
    "target_names = [False, True]\n",
    "pi_exp.fit(dt_model,train.X,y=train.y,target_names=target_names) \n",
    "explanation = pi_exp.compute(test.X, test.y)"
   ]
  },
  {
   "cell_type": "markdown",
   "id": "85a05b01",
   "metadata": {},
   "source": [
    "### E aqui obtêm-se a importância de cada variável utilizada para o modelo gerado"
   ]
  },
  {
   "cell_type": "code",
   "execution_count": null,
   "id": "1baa985f",
   "metadata": {},
   "outputs": [],
   "source": [
    "explanation.show_in_notebook(mode='box_plot')"
   ]
  },
  {
   "cell_type": "markdown",
   "id": "d85cb410",
   "metadata": {},
   "source": [
    "#### Gráficos para avaliar como foi o processo automático de Amostragem Adaptativa, Seleção de Features e Ajuste de Hiperparâmetros"
   ]
  },
  {
   "cell_type": "code",
   "execution_count": null,
   "id": "dafa7b08",
   "metadata": {},
   "outputs": [],
   "source": [
    "adap_sample(est_pred)"
   ]
  },
  {
   "cell_type": "code",
   "execution_count": null,
   "id": "bc4f6472",
   "metadata": {},
   "outputs": [],
   "source": [
    "feat_selec(est_pred)"
   ]
  },
  {
   "cell_type": "code",
   "execution_count": null,
   "id": "f9c85c0e",
   "metadata": {},
   "outputs": [],
   "source": [
    "hyper_tuning(est_pred)"
   ]
  },
  {
   "cell_type": "markdown",
   "id": "35f8074c",
   "metadata": {},
   "source": [
    "### Processo de MLOps\n",
    "\n",
    "#### Salvando o modelo no Model Catalog"
   ]
  },
  {
   "cell_type": "code",
   "execution_count": null,
   "id": "d84d25d6",
   "metadata": {},
   "outputs": [],
   "source": [
    "compartment_id = os.environ['NB_SESSION_COMPARTMENT_OCID']\n",
    "project_id = os.environ['PROJECT_OCID']"
   ]
  },
  {
   "cell_type": "code",
   "execution_count": null,
   "id": "fd1006ec",
   "metadata": {},
   "outputs": [],
   "source": [
    "dt_model = ADSModel.from_estimator(est_pred)\n",
    "artifact_path = '/home/datascience/modelo_1'\n",
    "artifact_model = dt_model.prepare(artifact_path, force_overwrite=True, \n",
    "                                     data_sample=test, data_science_env=True)"
   ]
  },
  {
   "cell_type": "code",
   "execution_count": null,
   "id": "ad9340db",
   "metadata": {},
   "outputs": [],
   "source": [
    "mc_model = artifact_model.save(project_id=project_id, compartment_id=compartment_id, \n",
    "                               display_name=\"AutoML Binary Classifier - CHD - Unimed POA\", \n",
    "                               description=\"AutoML Binary Classifier with LGBMClassifier\", \n",
    "                               ignore_pending_changes=True)"
   ]
  },
  {
   "cell_type": "code",
   "execution_count": null,
   "id": "3d9337ce",
   "metadata": {},
   "outputs": [],
   "source": [
    "model_id = mc_model.id\n",
    "print(f\"Model OCID: {model_id}\")"
   ]
  },
  {
   "cell_type": "markdown",
   "id": "12eb0e8b",
   "metadata": {},
   "source": [
    "#### Configuração da instância que receberá o modelo em produção"
   ]
  },
  {
   "cell_type": "code",
   "execution_count": null,
   "id": "c5eb2de6",
   "metadata": {},
   "outputs": [],
   "source": [
    "model_configuration_details_object = ModelConfigurationDetails(model_id=model_id,\n",
    "                                                               instance_configuration=InstanceConfiguration(instance_shape_name='VM.Standard2.1'),\n",
    "                                                               scaling_policy=FixedSizeScalingPolicy(instance_count=1),\n",
    "                                                               bandwidth_mbps=20)"
   ]
  },
  {
   "cell_type": "code",
   "execution_count": null,
   "id": "8d90729c",
   "metadata": {},
   "outputs": [],
   "source": [
    "single_model_config = SingleModelDeploymentConfigurationDetails(deployment_type='SINGLE_MODEL',\n",
    "                                                                model_configuration_details=model_configuration_details_object)"
   ]
  },
  {
   "cell_type": "markdown",
   "id": "2a9fb8bc",
   "metadata": {},
   "source": [
    "#### Criando ambiente de Logs para acompanhamento do modelo em produção"
   ]
  },
  {
   "cell_type": "code",
   "execution_count": null,
   "id": "f9409ba3",
   "metadata": {},
   "outputs": [],
   "source": [
    "log_group_name = \"ModelDeployment-FT-Unimed POA\"\n",
    "access_log_name = \"Access_Log\"\n",
    "predict_log_name = \"Predict_Log\"\n",
    "\n",
    "log_group = OCILogGroup(display_name=log_group_name).create()\n",
    "log_group_ocid = log_group.id\n",
    "print(f\"Log group OCID: {log_group_ocid}\")\n",
    "\n",
    "access_log = log_group.create_log(access_log_name)\n",
    "access_log_ocid = access_log.id\n",
    "print(f\"Access log OCID: {access_log_ocid}\")\n",
    "\n",
    "# Create a predict log in the log group\n",
    "predict_log = log_group.create_log(predict_log_name)\n",
    "predict_log_ocid = predict_log.id\n",
    "print(f\"Predict log OCID: {predict_log_ocid}\")\n",
    "\n",
    "logs_configuration_details_object = CategoryLogDetails(access=LogDetails(log_group_id=log_group_ocid,\n",
    "                                                                         log_id=access_log_ocid),\n",
    "                                                       predict=LogDetails(log_group_id=log_group_ocid,\n",
    "                                                                          log_id=predict_log_ocid))"
   ]
  },
  {
   "cell_type": "markdown",
   "id": "effed279",
   "metadata": {},
   "source": [
    "#### Configurando os detalhes do modelo antes de colocá-lo em produção"
   ]
  },
  {
   "cell_type": "code",
   "execution_count": null,
   "id": "aa10250e",
   "metadata": {},
   "outputs": [],
   "source": [
    "model_deploy_configuration = CreateModelDeploymentDetails(display_name='Predicao de CHD',\n",
    "                                                          description='Modelo de predicao de coronary heart disease',\n",
    "                                                          project_id=os.environ['PROJECT_OCID'],\n",
    "                                                          compartment_id=os.environ['NB_SESSION_COMPARTMENT_OCID'],\n",
    "                                                          model_deployment_configuration_details=single_model_config,\n",
    "                                                          category_log_details=logs_configuration_details_object\n",
    "                                                         )"
   ]
  },
  {
   "cell_type": "markdown",
   "id": "9ea11c71",
   "metadata": {},
   "source": [
    "### Autenticando e aplicando as configurações para colocar o modelo em produção"
   ]
  },
  {
   "cell_type": "code",
   "execution_count": null,
   "id": "429bb4fa",
   "metadata": {},
   "outputs": [],
   "source": [
    "auth = oci.auth.signers.get_resource_principals_signer()\n",
    "data_science = DataScienceClient({}, signer=auth)\n",
    "data_science_composite = DataScienceClientCompositeOperations(data_science)"
   ]
  },
  {
   "cell_type": "markdown",
   "id": "0718a01f",
   "metadata": {},
   "source": [
    "### Este processo levará de 13 a 15 minutos, pois é aqui onde as instâncias são provisionadas e configuradas"
   ]
  },
  {
   "cell_type": "code",
   "execution_count": null,
   "id": "a11fb40e",
   "metadata": {},
   "outputs": [],
   "source": [
    "%%time\n",
    "\n",
    "deployer = data_science_composite.create_model_deployment_and_wait_for_state(\n",
    "    model_deploy_configuration, \n",
    "    wait_for_states=[\"SUCCEEDED\", \"FAILED\"]\n",
    ")"
   ]
  },
  {
   "cell_type": "markdown",
   "id": "436eb20b",
   "metadata": {},
   "source": [
    "#### Obtendo a identificação do modelo em produção"
   ]
  },
  {
   "cell_type": "code",
   "execution_count": null,
   "id": "49f37451",
   "metadata": {},
   "outputs": [],
   "source": [
    "deployer = ModelDeployer()\n",
    "\n",
    "for active in deployer.list_deployments(status=\"ACTIVE\", compartment_id=compartment_id):\n",
    "    deployment_id = active.properties.id\n",
    "    print(active.properties.id)"
   ]
  },
  {
   "cell_type": "markdown",
   "id": "596e75da",
   "metadata": {},
   "source": [
    "### Preparando os acessos para enviar requisições para gerar previsões com o modelo criado e em produção"
   ]
  },
  {
   "cell_type": "code",
   "execution_count": null,
   "id": "077bd7f6",
   "metadata": {},
   "outputs": [],
   "source": [
    "deployment = deployer.get_model_deployment(model_deployment_id=deployment_id)\n",
    "print(f\"deployment OCID: {deployment.model_deployment_id}\\n\" +\n",
    "      f\"existing deployment OCID: {deployment.model_deployment_id}\")"
   ]
  },
  {
   "cell_type": "markdown",
   "id": "194a1a6b",
   "metadata": {},
   "source": [
    "### Pegando um conjunto de informações para gerar previsão de CHD através do modelo em produção"
   ]
  },
  {
   "cell_type": "code",
   "execution_count": null,
   "id": "5a06e21b",
   "metadata": {},
   "outputs": [],
   "source": [
    "pred = df_CHD.to_pandas_dataframe()\n",
    "pred = pred.drop(columns = [\"TenYearCHD\"])"
   ]
  },
  {
   "cell_type": "code",
   "execution_count": null,
   "id": "1963e564",
   "metadata": {},
   "outputs": [],
   "source": [
    "deployment.predict(pred[513:514].to_json())"
   ]
  },
  {
   "cell_type": "code",
   "execution_count": null,
   "id": "13be148e",
   "metadata": {},
   "outputs": [],
   "source": [
    "deployment.predict('{\"male\":{\"0\":1},\"age\":{\"0\":42},\"education\":{\"0\":4.0},\"currentSmoker\":{\"0\":0},\"cigsPerDay\":{\"0\":0.0},\"BPMeds\":{\"0\":1.0},\"prevalentStroke\":{\"0\":0},\"prevalentHyp\":{\"0\":1},\"diabetes\":{\"0\":0},\"totChol\":{\"0\":160.0},\"sysBP\":{\"0\":130.0},\"diaBP\":{\"0\":90.0},\"BMI\":{\"0\":25.00},\"heartRate\":{\"0\":80.0},\"glucose\":{\"0\":80.0}}')"
   ]
  },
  {
   "cell_type": "markdown",
   "id": "c29ba770",
   "metadata": {},
   "source": [
    "### Quem souber as próprias informações e quiser saber se tem a chance de sofrer CHD nos próximos 10 anos, basta alterar as informações abaixo:\n",
    "### ***Atenção: Alterar os valores que estão entre {\"0\":XX.X}, representados pelos \"X\"!!!"
   ]
  },
  {
   "cell_type": "code",
   "execution_count": null,
   "id": "29415f4a",
   "metadata": {},
   "outputs": [],
   "source": [
    "deployment.predict('{\"male\":{\"0\":X},\"age\":{\"0\":XX},\"education\":{\"0\":X.0},\"currentSmoker\":{\"0\":X},\"cigsPerDay\":{\"0\":X.0},\"BPMeds\":{\"0\":X.0},\"prevalentStroke\":{\"0\":X},\"prevalentHyp\":{\"0\":X},\"diabetes\":{\"0\":X},\"totChol\":{\"0\":XXX.0},\"sysBP\":{\"0\":XXX.0},\"diaBP\":{\"0\":XXX.0},\"BMI\":{\"0\":XX.00},\"heartRate\":{\"0\":XX.0},\"glucose\":{\"0\":XX.0}}')"
   ]
  },
  {
   "cell_type": "code",
   "execution_count": null,
   "id": "2472999a",
   "metadata": {},
   "outputs": [],
   "source": [
    "from time import sleep\n",
    "for i in range (0, 20, 1):\n",
    "    deployment.predict(test.X[i:i+1].to_json())\n",
    "    sleep(25-i)"
   ]
  }
 ],
 "metadata": {
  "kernelspec": {
   "display_name": "Python [conda env:dataexpl_p37_cpu_v2]",
   "language": "python",
   "name": "conda-env-dataexpl_p37_cpu_v2-py"
  },
  "language_info": {
   "codemirror_mode": {
    "name": "ipython",
    "version": 3
   },
   "file_extension": ".py",
   "mimetype": "text/x-python",
   "name": "python",
   "nbconvert_exporter": "python",
   "pygments_lexer": "ipython3",
   "version": "3.7.10"
  }
 },
 "nbformat": 4,
 "nbformat_minor": 5
}
